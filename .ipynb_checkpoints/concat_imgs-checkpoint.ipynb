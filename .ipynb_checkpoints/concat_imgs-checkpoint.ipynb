{
 "cells": [
  {
   "cell_type": "code",
   "execution_count": 19,
   "id": "54862b9d-b5cd-4d52-aad1-04ae653010d5",
   "metadata": {},
   "outputs": [],
   "source": [
    "import os\n",
    "import glob\n",
    "from collections import defaultdict\n",
    "from PIL import Image"
   ]
  },
  {
   "cell_type": "code",
   "execution_count": 1,
   "id": "a62f6530-e76d-4853-99b5-fc841b00ccf2",
   "metadata": {},
   "outputs": [],
   "source": [
    "directory = \"/Users/ricomeinl/Desktop/retro/biobank/p1-p2 wo epo\""
   ]
  },
  {
   "cell_type": "code",
   "execution_count": 21,
   "id": "cce19537-79b2-45da-9b62-27d6c0c65d8f",
   "metadata": {},
   "outputs": [],
   "source": [
    "d = defaultdict(list)\n",
    "for f in glob.glob(os.path.join(directory, '*tiff')):\n",
    "    base = os.path.basename(f)\n",
    "    d[base.split('_')[2]].append(f)\n",
    "d = {k:sorted(l, key=lambda l: int(l.split('_')[3][1:])) for k,l in d.items()}"
   ]
  },
  {
   "cell_type": "code",
   "execution_count": 69,
   "id": "538a2030-3fc7-4e29-9592-e0be52b8f24c",
   "metadata": {},
   "outputs": [],
   "source": [
    "def concat(imgs):\n",
    "    dst = Image.new('RGB', (sum([im.width for im in imgs[0]]), sum([im[0].height for im in imgs])))\n",
    "    width = imgs[0][0].width\n",
    "    height = imgs[0][0].height\n",
    "    left_offset = 0\n",
    "    top_offset = 0\n",
    "    for i in range(6):\n",
    "        for j in range(6):\n",
    "            im = imgs[i][j]\n",
    "            dst.paste(im, (j*width, i*height))\n",
    "    return dst"
   ]
  },
  {
   "cell_type": "code",
   "execution_count": 72,
   "id": "7c97172a-f9ad-4a18-945f-bd9c72550f4c",
   "metadata": {},
   "outputs": [],
   "source": [
    "imgs = []\n",
    "rows = 6\n",
    "tmp = []\n",
    "\n",
    "for i,path in enumerate(d['a1']):\n",
    "    im = Image.open(path)\n",
    "    if (i != 0) and (i % rows == 0):\n",
    "        imgs.append(tmp)\n",
    "        tmp = []\n",
    "    tmp.append(im)\n",
    "imgs.append(tmp)"
   ]
  },
  {
   "cell_type": "code",
   "execution_count": 70,
   "id": "700fe3c8-776a-4ce6-80e9-9adf49f312e7",
   "metadata": {},
   "outputs": [],
   "source": [
    "img = concat(imgs)"
   ]
  },
  {
   "cell_type": "code",
   "execution_count": null,
   "id": "511cf09f-d34b-46fb-98e5-db908877f230",
   "metadata": {},
   "outputs": [],
   "source": []
  }
 ],
 "metadata": {
  "kernelspec": {
   "display_name": "img_label",
   "language": "python",
   "name": "img_label"
  },
  "language_info": {
   "codemirror_mode": {
    "name": "ipython",
    "version": 3
   },
   "file_extension": ".py",
   "mimetype": "text/x-python",
   "name": "python",
   "nbconvert_exporter": "python",
   "pygments_lexer": "ipython3",
   "version": "3.8.13"
  }
 },
 "nbformat": 4,
 "nbformat_minor": 5
}
